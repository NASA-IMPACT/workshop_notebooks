{
 "cells": [
  {
   "cell_type": "markdown",
   "id": "8333da1d",
   "metadata": {},
   "source": [
    "# Chapter-4: Deploy model and infer\n",
    "\n",
    "In the previous chapter, we trained a model using sagemaker's tensorflow module. in this chapter, we will explore ways to infer from the trained model easily"
   ]
  },
  {
   "cell_type": "code",
   "execution_count": null,
   "id": "bfe55988",
   "metadata": {},
   "outputs": [],
   "source": [
    "import cv2\n",
    "import matplotlib.pyplot as plt\n",
    "import numpy as np\n",
    "import numpy.ma as ma\n",
    "import random\n",
    "\n",
    "from glob import glob \n",
    "from sagemaker.tensorflow import TensorFlowModel"
   ]
  },
  {
   "cell_type": "markdown",
   "id": "a25777a3",
   "metadata": {},
   "source": [
    "## Setup account details"
   ]
  },
  {
   "cell_type": "code",
   "execution_count": null,
   "id": "fb6aa678",
   "metadata": {},
   "outputs": [],
   "source": [
    "ACCOUNT = \"<account-number>\"\n",
    "BUCKET_NAME = f\"s3://{ACCOUNT}-model-bucket\"\n",
    "ROLE_NAME = \"notebookAccessRole\"\n",
    "ROLE_ARN = f\"arn:aws:iam::{ACCOUNT}:role/{ROLE_NAME}\"\n"
   ]
  },
  {
   "cell_type": "markdown",
   "id": "37ed7be2",
   "metadata": {},
   "source": [
    "## Method #1: Deploy the trained model from within sagemaker instance"
   ]
  },
  {
   "cell_type": "code",
   "execution_count": null,
   "id": "8b994232",
   "metadata": {},
   "outputs": [],
   "source": [
    "# refer to chapter-3 checkpoints or select from your s3 Bucket.\n",
    "model_location = f\"{BUCKET_NAME}/tensorflow-training-2021-05-28-06-32-03-399/output/model.tar.gz\"\n",
    "framework_version = '2.4.1'\n",
    "\n",
    "model = TensorFlowModel(\n",
    "    framework_version='2.4.1', \n",
    "    role='notebookAccessRole',\n",
    "    model_data=model_location \n",
    ")"
   ]
  },
  {
   "cell_type": "code",
   "execution_count": null,
   "id": "6c0d0953",
   "metadata": {
    "scrolled": true
   },
   "outputs": [],
   "source": [
    "estimator = model.deploy(initial_instance_count=1, instance_type='ml.t2.large')"
   ]
  },
  {
   "cell_type": "markdown",
   "id": "32bce1ad",
   "metadata": {},
   "source": [
    "## Predict on test images"
   ]
  },
  {
   "cell_type": "code",
   "execution_count": null,
   "id": "d02faff3",
   "metadata": {},
   "outputs": [],
   "source": [
    "ALL_IMAGES = glob('../chapter-3/data/test/*.tiff')\n",
    "def get_test_data(num_samples=5):\n",
    "    \"\"\" Samples 'num_samples' # of test datasets from the test data split,\n",
    "    returns the images and the labels\n",
    "    \"\"\"\n",
    "    test_array = []\n",
    "    bmp_array = []\n",
    "    random.shuffle(ALL_IMAGES)\n",
    "    test_images_sampled = ALL_IMAGES[:num_samples]\n",
    "    print(test_images_sampled)\n",
    "    for test_image in test_images_sampled:\n",
    "        image = cv2.imread(test_image)\n",
    "        image = cv2.resize(image, (256, 256))\n",
    "        print(image.shape)\n",
    "        bmp_image = cv2.imread(test_image.replace('.tiff','_bitmap.png'))\n",
    "        bmp_image = cv2.resize(bmp_image, (256, 256))\n",
    "        test_array.append(image)\n",
    "        bmp_array.append(bmp_image)\n",
    "    return np.asarray(test_array), np.asarray(bmp_array)"
   ]
  },
  {
   "cell_type": "code",
   "execution_count": null,
   "id": "3f0ded8f",
   "metadata": {},
   "outputs": [],
   "source": [
    "modis_batch, bmp_batch = get_test_data()\n",
    "bmp_predict_batch = np.asarray(estimator.predict(modis_batch)['predictions'])\n",
    "for j in range(len(modis_batch)):\n",
    "    bmp_data = bmp_batch[j]\n",
    "    f, ax = plt.subplots(1, 3, constrained_layout=True, dpi=100)\n",
    "    ax[0].imshow(modis_batch[j].astype('uint8'))\n",
    "    ax[0].set_title('RGB Image')\n",
    "    ax[0].xaxis.set_ticks([])\n",
    "    ax[0].yaxis.set_ticks([])\n",
    "    ax[1].imshow(modis_batch[j].astype('uint8'))\n",
    "    ax[1].xaxis.set_ticks([])\n",
    "    ax[1].yaxis.set_ticks([])\n",
    "    ax[1].set_title('SME label overlay')\n",
    "    ax[2].imshow(modis_batch[j].astype('uint8'))\n",
    "    ax[2].set_title('Model Prediction overlay')\n",
    "    ax[2].xaxis.set_ticks([])\n",
    "    ax[2].yaxis.set_ticks([])\n",
    "    bmp_data = bmp_batch[j].astype('uint8')\n",
    "    ax[1].imshow(ma.masked_where(bmp_batch[j] != 0, bmp_batch[j])[:,:,0],alpha=0.35,cmap='Purples')\n",
    "    ax[2].imshow(ma.masked_where(bmp_predict_batch[j] < 0.5, bmp_predict_batch[j])[:,:,0],alpha=0.45,cmap='spring')"
   ]
  },
  {
   "cell_type": "markdown",
   "id": "462a243a",
   "metadata": {},
   "source": [
    "## Method #2: Use the model prediction REST API endpoint"
   ]
  },
  {
   "cell_type": "code",
   "execution_count": null,
   "id": "39f36b18",
   "metadata": {},
   "outputs": [],
   "source": [
    "# refer to chapter-3 checkpoints or select from your s3 Bucket.\n",
    "model_location = f\"{BUCKET_NAME}/tensorflow-training-2021-05-05-10-10-34-979/output/model.tar.gz'\n",
    "bmp_predict_batch = model.predict(modis_batch)"
   ]
  },
  {
   "cell_type": "code",
   "execution_count": null,
   "id": "aa594537",
   "metadata": {},
   "outputs": [],
   "source": [
    "for j in range(len(modis_batch)):\n",
    "    bmp_data = bmp_batch[j]\n",
    "    f, ax = plt.subplots(1, 3, constrained_layout=True, dpi=100)\n",
    "    ax[0].imshow(modis_batch[j].astype('uint8'))\n",
    "    ax[0].set_title('RGB Image')\n",
    "    ax[0].xaxis.set_ticks([])\n",
    "    ax[0].yaxis.set_ticks([])\n",
    "    ax[1].imshow(modis_batch[j].astype('uint8'))\n",
    "    ax[1].xaxis.set_ticks([])\n",
    "    ax[1].yaxis.set_ticks([])\n",
    "    ax[1].set_title('SME label overlay')\n",
    "    ax[2].imshow(modis_batch[j].astype('uint8'))\n",
    "    ax[2].set_title('Model Prediction overlay')\n",
    "    ax[2].xaxis.set_ticks([])\n",
    "    ax[2].yaxis.set_ticks([])\n",
    "    bmp_data = bmp_batch[j].astype('uint8')\n",
    "    ax[1].imshow(ma.masked_where(bmp_batch[j] != 0, bmp_batch[j])[:,:,0],alpha=0.35,cmap='Purples')\n",
    "    ax[2].imshow(ma.masked_where(bmp_predict_batch[j] < 0.5, bmp_predict_batch[j])[:,:,0],alpha=0.45,cmap='spring')"
   ]
  },
  {
   "cell_type": "markdown",
   "id": "56647496",
   "metadata": {},
   "source": [
    "# Cleanup"
   ]
  },
  {
   "cell_type": "code",
   "execution_count": null,
   "id": "d39e6b2e",
   "metadata": {},
   "outputs": [],
   "source": [
    "estimator.delete_endpoint()"
   ]
  },
  {
   "cell_type": "markdown",
   "id": "34718c5c",
   "metadata": {},
   "source": [
    "1. Delete the s3 buckets created\n",
    "2. Delete the endpoints and deployed models https://docs.aws.amazon.com/sagemaker/latest/dg/ex1-cleanup.html\n",
    "3. Delete logs in cloudwatch https://console.aws.amazon.com/cloudwatch/home#logsV2:log-groups"
   ]
  }
 ],
 "metadata": {
  "kernelspec": {
   "display_name": "conda_tensorflow2_p36",
   "language": "python",
   "name": "conda_tensorflow2_p36"
  },
  "language_info": {
   "codemirror_mode": {
    "name": "ipython",
    "version": 3
   },
   "file_extension": ".py",
   "mimetype": "text/x-python",
   "name": "python",
   "nbconvert_exporter": "python",
   "pygments_lexer": "ipython3",
   "version": "3.6.13"
  }
 },
 "nbformat": 4,
 "nbformat_minor": 5
}
