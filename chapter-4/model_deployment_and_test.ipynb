{
 "cells": [
  {
   "cell_type": "markdown",
   "metadata": {},
   "source": [
    "# Chapter-4: Deploy model and infer\n",
    "\n",
    "In the previous chapter, we trained a model using sagemaker's tensorflow module. in this chapter, we will explore ways to infer from the trained model easily"
   ]
  },
  {
   "cell_type": "code",
   "execution_count": null,
   "metadata": {},
   "outputs": [],
   "source": [
    "from sagemaker.tensorflow import TensorFlowModel\n",
    "import cv2\n",
    "import numpy as np\n",
    "import numpy.ma as ma\n",
    "import random"
   ]
  },
  {
   "cell_type": "markdown",
   "metadata": {},
   "source": [
    "## Setup account details"
   ]
  },
  {
   "cell_type": "code",
   "execution_count": null,
   "metadata": {},
   "outputs": [],
   "source": [
    "ROLE_NAME = \"notebookAccessRole\"\n",
    "ACCOUNT = \"350996086543\"\n",
    "BUCKET_NAME = f\"s3://{ACCOUNT}-model-bucket\""
   ]
  },
  {
   "cell_type": "markdown",
   "metadata": {},
   "source": [
    "## Method #1: Deploy the trained model from within sagemaker instance"
   ]
  },
  {
   "cell_type": "code",
   "execution_count": null,
   "metadata": {},
   "outputs": [],
   "source": [
    "# refer to chapter-3 checkpoints or select from your s3 Bucket.\n",
    "model_location = f\"{BUCKET_NAME}/tensorflow-training-2021-05-05-10-10-34-979/output/model.tar.gz'\n",
    "framework_version = '2.4.1'\n",
    "\n",
    "model = TensorFlowModel(\n",
    "    framework_version='2.4.1', \n",
    "    model_data=model_location, \n",
    "    role='notebookAccessRole'\n",
    ")"
   ]
  },
  {
   "cell_type": "code",
   "execution_count": null,
   "metadata": {
    "scrolled": true
   },
   "outputs": [],
   "source": [
    "estimator = model.deploy(initial_instance_count=1, instance_type='ml.t2.large')"
   ]
  },
  {
   "cell_type": "markdown",
   "metadata": {},
   "source": [
    "## Predict on test images"
   ]
  },
  {
   "cell_type": "code",
   "execution_count": null,
   "metadata": {},
   "outputs": [],
   "source": [
    "def get_test_data(num_samples=5):\n",
    "    \"\"\" Samples 'num_samples' # of test datasets from the test data split,\n",
    "    returns the images and the labels\n",
    "    \"\"\"\n",
    "    test_array = []\n",
    "    bmp_array = []\n",
    "    all_images = glob('../chapter-3/data/test/*.tif*')\n",
    "    random.shuffle(all_images)\n",
    "    test_images_sampled = all_images[:num_samples]\n",
    "    for test_image in test_images_sampled:\n",
    "        image = cv2.imread(test_image)\n",
    "        bmp_image = cv2.imread(test_image.replace('.tiff','_bitmap.png'))\n",
    "        test_array.append(image)\n",
    "        bmp_array.append(bmp_image)\n",
    "    return test_array, bmp_array"
   ]
  },
  {
   "cell_type": "code",
   "execution_count": null,
   "metadata": {},
   "outputs": [],
   "source": [
    "modis_batch, bmp_batch = get_test_data()\n",
    "bmp_predict_batch = estimator.predict(modis_batch)\n",
    "\n",
    "for j in range(len(modis_batch)):\n",
    "    bmp_data = bmp_batch[j]\n",
    "    f, ax = plt.subplots(1, 3, constrained_layout=True, dpi=100)\n",
    "    ax[0].imshow(modis_batch[j].astype('uint8'))\n",
    "    ax[0].set_title('RGB Image')\n",
    "    ax[0].xaxis.set_ticks([])\n",
    "    ax[0].yaxis.set_ticks([])\n",
    "    ax[1].imshow(modis_batch[j].astype('uint8'))\n",
    "    ax[1].xaxis.set_ticks([])\n",
    "    ax[1].yaxis.set_ticks([])\n",
    "    ax[1].set_title('SME label overlay')\n",
    "    ax[2].imshow(modis_batch[j].astype('uint8'))\n",
    "    ax[2].set_title('Model Prediction overlay')\n",
    "    ax[2].xaxis.set_ticks([])\n",
    "    ax[2].yaxis.set_ticks([])\n",
    "    bmp_data = bmp_batch[j].astype('uint8')\n",
    "    ax[1].imshow(ma.masked_where(bmp_batch[j] != 0, bmp_batch[j])[:,:,0],alpha=0.35,cmap='Purples')\n",
    "    ax[2].imshow(ma.masked_where(bmp_predict_batch[j] < 0.5, bmp_predict_batch[j])[:,:,0],alpha=0.45,cmap='spring')"
   ]
  },
  {
   "cell_type": "markdown",
   "metadata": {},
   "source": [
    "## Method #2: Use the model prediction REST API endpoint"
   ]
  },
  {
   "cell_type": "code",
   "execution_count": null,
   "metadata": {},
   "outputs": [],
   "source": [
    "# refer to chapter-3 checkpoints or select from your s3 Bucket.\n",
    "model_location = f\"{BUCKET_NAME}/tensorflow-training-2021-05-05-10-10-34-979/output/model.tar.gz'\n",
    "bmp_predict_batch = model.predict(modis_batch)"
   ]
  },
  {
   "cell_type": "code",
   "execution_count": null,
   "metadata": {},
   "outputs": [],
   "source": [
    "for j in range(len(modis_batch)):\n",
    "    bmp_data = bmp_batch[j]\n",
    "    f, ax = plt.subplots(1, 3, constrained_layout=True, dpi=100)\n",
    "    ax[0].imshow(modis_batch[j].astype('uint8'))\n",
    "    ax[0].set_title('RGB Image')\n",
    "    ax[0].xaxis.set_ticks([])\n",
    "    ax[0].yaxis.set_ticks([])\n",
    "    ax[1].imshow(modis_batch[j].astype('uint8'))\n",
    "    ax[1].xaxis.set_ticks([])\n",
    "    ax[1].yaxis.set_ticks([])\n",
    "    ax[1].set_title('SME label overlay')\n",
    "    ax[2].imshow(modis_batch[j].astype('uint8'))\n",
    "    ax[2].set_title('Model Prediction overlay')\n",
    "    ax[2].xaxis.set_ticks([])\n",
    "    ax[2].yaxis.set_ticks([])\n",
    "    bmp_data = bmp_batch[j].astype('uint8')\n",
    "    ax[1].imshow(ma.masked_where(bmp_batch[j] != 0, bmp_batch[j])[:,:,0],alpha=0.35,cmap='Purples')\n",
    "    ax[2].imshow(ma.masked_where(bmp_predict_batch[j] < 0.5, bmp_predict_batch[j])[:,:,0],alpha=0.45,cmap='spring')"
   ]
  },
  {
   "cell_type": "markdown",
   "metadata": {},
   "source": [
    "# Cleanup"
   ]
  },
  {
   "cell_type": "markdown",
   "metadata": {},
   "source": [
    "1. Delete the s3 buckets created\n",
    "2. Delete the endpoints and deployed models https://docs.aws.amazon.com/sagemaker/latest/dg/ex1-cleanup.html\n",
    "3. Delete logs in cloudwatch https://console.aws.amazon.com/cloudwatch/home#logsV2:log-groups"
   ]
  },
  {
   "cell_type": "code",
   "execution_count": 2,
   "metadata": {},
   "outputs": [],
   "source": []
  },
  {
   "cell_type": "code",
   "execution_count": null,
   "metadata": {},
   "outputs": [],
   "source": []
  }
 ],
 "metadata": {
  "kernelspec": {
   "display_name": "Python 3",
   "language": "python",
   "name": "python3"
  },
  "language_info": {
   "codemirror_mode": {
    "name": "ipython",
    "version": 3
   },
   "file_extension": ".py",
   "mimetype": "text/x-python",
   "name": "python",
   "nbconvert_exporter": "python",
   "pygments_lexer": "ipython3",
   "version": "3.8.5"
  }
 },
 "nbformat": 4,
 "nbformat_minor": 5
}
