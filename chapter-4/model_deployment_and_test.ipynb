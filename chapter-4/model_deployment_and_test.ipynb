{
 "cells": [
  {
   "cell_type": "code",
   "execution_count": null,
   "id": "threatened-arbor",
   "metadata": {},
   "outputs": [],
   "source": [
    "from sagemaker.tensorflow import TensorFlowModel\n"
   ]
  },
  {
   "cell_type": "code",
   "execution_count": null,
   "id": "suspected-passion",
   "metadata": {},
   "outputs": [],
   "source": [
    "ROLE_NAME = \"notebookAccessRole\"\n",
    "ACCOUNT = \"<your-account-number>\"\n",
    "BUCKET_NAME = f\"s3://{ACCOUNT}-model-bucket\""
   ]
  },
  {
   "cell_type": "code",
   "execution_count": null,
   "id": "leading-village",
   "metadata": {},
   "outputs": [],
   "source": [
    "# refer to chapter-3 checkpoints or select from your s3 Bucket.\n",
    "model_location = f\"{BUCKET_NAME}/<your-selection-of-checkpoint>/output/model.tar.gz'"
   ]
  },
  {
   "cell_type": "code",
   "execution_count": null,
   "id": "appointed-wrapping",
   "metadata": {},
   "outputs": [],
   "source": [
    "framework_version = '2.4.1'\n",
    "\n",
    "model = TensorFlowModel(\n",
    "    framework_version='2.4.1', \n",
    "    model_data=model_location, \n",
    "    role='notebookAccessRole'\n",
    ")"
   ]
  },
  {
   "cell_type": "code",
   "execution_count": null,
   "id": "expensive-facing",
   "metadata": {
    "scrolled": true
   },
   "outputs": [],
   "source": [
    "estimator = model.deploy(initial_instance_count=1, instance_type='ml.t2.large')"
   ]
  },
  {
   "cell_type": "code",
   "execution_count": null,
   "id": "educational-tissue",
   "metadata": {},
   "outputs": [],
   "source": [
    "estimator.predict(<array of test images>)"
   ]
  },
  {
   "cell_type": "markdown",
   "id": "operating-inside",
   "metadata": {},
   "source": [
    "# Cleanup"
   ]
  },
  {
   "cell_type": "markdown",
   "id": "faced-roulette",
   "metadata": {},
   "source": [
    "1. Delete the s3 buckets created\n",
    "2. Delete the endpoints and deployed models https://docs.aws.amazon.com/sagemaker/latest/dg/ex1-cleanup.html"
   ]
  },
  {
   "cell_type": "code",
   "execution_count": null,
   "id": "dangerous-remainder",
   "metadata": {},
   "outputs": [],
   "source": []
  }
 ],
 "metadata": {
  "kernelspec": {
   "display_name": "conda_tensorflow2_p36",
   "language": "python",
   "name": "conda_tensorflow2_p36"
  },
  "language_info": {
   "codemirror_mode": {
    "name": "ipython",
    "version": 3
   },
   "file_extension": ".py",
   "mimetype": "text/x-python",
   "name": "python",
   "nbconvert_exporter": "python",
   "pygments_lexer": "ipython3",
   "version": "3.6.13"
  }
 },
 "nbformat": 4,
 "nbformat_minor": 5
}
