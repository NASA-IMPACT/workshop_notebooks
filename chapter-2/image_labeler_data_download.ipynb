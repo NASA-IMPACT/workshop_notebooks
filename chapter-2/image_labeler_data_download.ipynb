{
 "cells": [
  {
   "cell_type": "markdown",
   "metadata": {},
   "source": [
    "# Chapter-2: Prepare Training Data\n",
    "\n",
    "In this chapter, we will go through how to download HLD data from s3 buckets, preprocess them, and split them for training a ML model."
   ]
  },
  {
   "cell_type": "markdown",
   "metadata": {},
   "source": [
    "## Install requirements"
   ]
  },
  {
   "cell_type": "code",
   "execution_count": 11,
   "metadata": {},
   "outputs": [
    {
     "name": "stdout",
     "output_type": "stream",
     "text": [
      "Requirement already satisfied: boto3 in /Users/kumar/work/workshop_notebooks/.venv/lib/python3.7/site-packages (from -r ../chapter-3/src/requirements.txt (line 1)) (1.17.67)\n",
      "Requirement already satisfied: fiona in /Users/kumar/work/workshop_notebooks/.venv/lib/python3.7/site-packages (from -r ../chapter-3/src/requirements.txt (line 2)) (1.8.19)\n",
      "Requirement already satisfied: imgaug in /Users/kumar/work/workshop_notebooks/.venv/lib/python3.7/site-packages (from -r ../chapter-3/src/requirements.txt (line 3)) (0.4.0)\n",
      "Requirement already satisfied: matplotlib in /Users/kumar/work/workshop_notebooks/.venv/lib/python3.7/site-packages (from -r ../chapter-3/src/requirements.txt (line 4)) (3.4.1)\n",
      "Requirement already satisfied: numpy in /Users/kumar/work/workshop_notebooks/.venv/lib/python3.7/site-packages (from -r ../chapter-3/src/requirements.txt (line 5)) (1.20.2)\n",
      "Requirement already satisfied: opencv-python-headless in /Users/kumar/work/workshop_notebooks/.venv/lib/python3.7/site-packages (from -r ../chapter-3/src/requirements.txt (line 6)) (4.5.1.48)\n",
      "Requirement already satisfied: pandas in /Users/kumar/work/workshop_notebooks/.venv/lib/python3.7/site-packages (from -r ../chapter-3/src/requirements.txt (line 7)) (1.2.4)\n",
      "Requirement already satisfied: rasterio in /Users/kumar/work/workshop_notebooks/.venv/lib/python3.7/site-packages (from -r ../chapter-3/src/requirements.txt (line 8)) (1.2.3)\n",
      "Requirement already satisfied: requests in /Users/kumar/work/workshop_notebooks/.venv/lib/python3.7/site-packages (from -r ../chapter-3/src/requirements.txt (line 9)) (2.25.1)\n",
      "Requirement already satisfied: sklearn in /Users/kumar/work/workshop_notebooks/.venv/lib/python3.7/site-packages (from -r ../chapter-3/src/requirements.txt (line 10)) (0.0)\n",
      "Requirement already satisfied: tensorflow==2.4.1 in /Users/kumar/work/workshop_notebooks/.venv/lib/python3.7/site-packages (from -r ../chapter-3/src/requirements.txt (line 11)) (2.4.1)\n",
      "Requirement already satisfied: jmespath<1.0.0,>=0.7.1 in /Users/kumar/work/workshop_notebooks/.venv/lib/python3.7/site-packages (from boto3->-r ../chapter-3/src/requirements.txt (line 1)) (0.10.0)\n",
      "Requirement already satisfied: s3transfer<0.5.0,>=0.4.0 in /Users/kumar/work/workshop_notebooks/.venv/lib/python3.7/site-packages (from boto3->-r ../chapter-3/src/requirements.txt (line 1)) (0.4.2)\n",
      "Requirement already satisfied: botocore<1.21.0,>=1.20.67 in /Users/kumar/work/workshop_notebooks/.venv/lib/python3.7/site-packages (from boto3->-r ../chapter-3/src/requirements.txt (line 1)) (1.20.67)\n",
      "Requirement already satisfied: attrs>=17 in /Users/kumar/work/workshop_notebooks/.venv/lib/python3.7/site-packages (from fiona->-r ../chapter-3/src/requirements.txt (line 2)) (20.3.0)\n",
      "Requirement already satisfied: certifi in /Users/kumar/work/workshop_notebooks/.venv/lib/python3.7/site-packages (from fiona->-r ../chapter-3/src/requirements.txt (line 2)) (2020.12.5)\n",
      "Requirement already satisfied: cligj>=0.5 in /Users/kumar/work/workshop_notebooks/.venv/lib/python3.7/site-packages (from fiona->-r ../chapter-3/src/requirements.txt (line 2)) (0.7.1)\n",
      "Requirement already satisfied: six>=1.7 in /Users/kumar/work/workshop_notebooks/.venv/lib/python3.7/site-packages (from fiona->-r ../chapter-3/src/requirements.txt (line 2)) (1.16.0)\n",
      "Requirement already satisfied: munch in /Users/kumar/work/workshop_notebooks/.venv/lib/python3.7/site-packages (from fiona->-r ../chapter-3/src/requirements.txt (line 2)) (2.5.0)\n",
      "Requirement already satisfied: click-plugins>=1.0 in /Users/kumar/work/workshop_notebooks/.venv/lib/python3.7/site-packages (from fiona->-r ../chapter-3/src/requirements.txt (line 2)) (1.1.1)\n",
      "Requirement already satisfied: click<8,>=4.0 in /Users/kumar/work/workshop_notebooks/.venv/lib/python3.7/site-packages (from fiona->-r ../chapter-3/src/requirements.txt (line 2)) (7.1.2)\n",
      "Requirement already satisfied: Shapely in /Users/kumar/work/workshop_notebooks/.venv/lib/python3.7/site-packages (from imgaug->-r ../chapter-3/src/requirements.txt (line 3)) (1.7.1)\n",
      "Requirement already satisfied: opencv-python in /Users/kumar/work/workshop_notebooks/.venv/lib/python3.7/site-packages (from imgaug->-r ../chapter-3/src/requirements.txt (line 3)) (4.5.1.48)\n",
      "Requirement already satisfied: imageio in /Users/kumar/work/workshop_notebooks/.venv/lib/python3.7/site-packages (from imgaug->-r ../chapter-3/src/requirements.txt (line 3)) (2.9.0)\n",
      "Requirement already satisfied: scipy in /Users/kumar/work/workshop_notebooks/.venv/lib/python3.7/site-packages (from imgaug->-r ../chapter-3/src/requirements.txt (line 3)) (1.6.3)\n",
      "Requirement already satisfied: scikit-image>=0.14.2 in /Users/kumar/work/workshop_notebooks/.venv/lib/python3.7/site-packages (from imgaug->-r ../chapter-3/src/requirements.txt (line 3)) (0.18.1)\n",
      "Requirement already satisfied: Pillow in /Users/kumar/work/workshop_notebooks/.venv/lib/python3.7/site-packages (from imgaug->-r ../chapter-3/src/requirements.txt (line 3)) (8.2.0)\n",
      "Requirement already satisfied: python-dateutil>=2.7 in /Users/kumar/work/workshop_notebooks/.venv/lib/python3.7/site-packages (from matplotlib->-r ../chapter-3/src/requirements.txt (line 4)) (2.8.1)\n",
      "Requirement already satisfied: pyparsing>=2.2.1 in /Users/kumar/work/workshop_notebooks/.venv/lib/python3.7/site-packages (from matplotlib->-r ../chapter-3/src/requirements.txt (line 4)) (2.4.7)\n",
      "Requirement already satisfied: kiwisolver>=1.0.1 in /Users/kumar/work/workshop_notebooks/.venv/lib/python3.7/site-packages (from matplotlib->-r ../chapter-3/src/requirements.txt (line 4)) (1.3.1)\n",
      "Requirement already satisfied: cycler>=0.10 in /Users/kumar/work/workshop_notebooks/.venv/lib/python3.7/site-packages (from matplotlib->-r ../chapter-3/src/requirements.txt (line 4)) (0.10.0)\n",
      "Requirement already satisfied: pytz>=2017.3 in /Users/kumar/work/workshop_notebooks/.venv/lib/python3.7/site-packages (from pandas->-r ../chapter-3/src/requirements.txt (line 7)) (2021.1)\n",
      "Requirement already satisfied: affine in /Users/kumar/work/workshop_notebooks/.venv/lib/python3.7/site-packages (from rasterio->-r ../chapter-3/src/requirements.txt (line 8)) (2.3.0)\n",
      "Requirement already satisfied: snuggs>=1.4.1 in /Users/kumar/work/workshop_notebooks/.venv/lib/python3.7/site-packages (from rasterio->-r ../chapter-3/src/requirements.txt (line 8)) (1.4.7)\n",
      "Requirement already satisfied: idna<3,>=2.5 in /Users/kumar/work/workshop_notebooks/.venv/lib/python3.7/site-packages (from requests->-r ../chapter-3/src/requirements.txt (line 9)) (2.10)\n",
      "Requirement already satisfied: urllib3<1.27,>=1.21.1 in /Users/kumar/work/workshop_notebooks/.venv/lib/python3.7/site-packages (from requests->-r ../chapter-3/src/requirements.txt (line 9)) (1.26.4)\n",
      "Requirement already satisfied: chardet<5,>=3.0.2 in /Users/kumar/work/workshop_notebooks/.venv/lib/python3.7/site-packages (from requests->-r ../chapter-3/src/requirements.txt (line 9)) (4.0.0)\n",
      "Requirement already satisfied: scikit-learn in /Users/kumar/work/workshop_notebooks/.venv/lib/python3.7/site-packages (from sklearn->-r ../chapter-3/src/requirements.txt (line 10)) (0.24.2)\n",
      "Requirement already satisfied: h5py~=2.10.0 in /Users/kumar/work/workshop_notebooks/.venv/lib/python3.7/site-packages (from tensorflow==2.4.1->-r ../chapter-3/src/requirements.txt (line 11)) (2.10.0)\n",
      "Requirement already satisfied: protobuf>=3.9.2 in /Users/kumar/work/workshop_notebooks/.venv/lib/python3.7/site-packages (from tensorflow==2.4.1->-r ../chapter-3/src/requirements.txt (line 11)) (3.15.8)\n",
      "Requirement already satisfied: google-pasta~=0.2 in /Users/kumar/work/workshop_notebooks/.venv/lib/python3.7/site-packages (from tensorflow==2.4.1->-r ../chapter-3/src/requirements.txt (line 11)) (0.2.0)\n",
      "Requirement already satisfied: wheel~=0.35 in /Users/kumar/work/workshop_notebooks/.venv/lib/python3.7/site-packages (from tensorflow==2.4.1->-r ../chapter-3/src/requirements.txt (line 11)) (0.36.2)\n",
      "Requirement already satisfied: absl-py~=0.10 in /Users/kumar/work/workshop_notebooks/.venv/lib/python3.7/site-packages (from tensorflow==2.4.1->-r ../chapter-3/src/requirements.txt (line 11)) (0.12.0)\n",
      "Requirement already satisfied: tensorflow-estimator<2.5.0,>=2.4.0 in /Users/kumar/work/workshop_notebooks/.venv/lib/python3.7/site-packages (from tensorflow==2.4.1->-r ../chapter-3/src/requirements.txt (line 11)) (2.4.0)\n",
      "Requirement already satisfied: astunparse~=1.6.3 in /Users/kumar/work/workshop_notebooks/.venv/lib/python3.7/site-packages (from tensorflow==2.4.1->-r ../chapter-3/src/requirements.txt (line 11)) (1.6.3)\n",
      "Requirement already satisfied: keras-preprocessing~=1.1.2 in /Users/kumar/work/workshop_notebooks/.venv/lib/python3.7/site-packages (from tensorflow==2.4.1->-r ../chapter-3/src/requirements.txt (line 11)) (1.1.2)\n",
      "Requirement already satisfied: opt-einsum~=3.3.0 in /Users/kumar/work/workshop_notebooks/.venv/lib/python3.7/site-packages (from tensorflow==2.4.1->-r ../chapter-3/src/requirements.txt (line 11)) (3.3.0)\n",
      "Requirement already satisfied: typing-extensions~=3.7.4 in /Users/kumar/work/workshop_notebooks/.venv/lib/python3.7/site-packages (from tensorflow==2.4.1->-r ../chapter-3/src/requirements.txt (line 11)) (3.7.4.3)\n",
      "Requirement already satisfied: gast==0.3.3 in /Users/kumar/work/workshop_notebooks/.venv/lib/python3.7/site-packages (from tensorflow==2.4.1->-r ../chapter-3/src/requirements.txt (line 11)) (0.3.3)\n",
      "Requirement already satisfied: tensorboard~=2.4 in /Users/kumar/work/workshop_notebooks/.venv/lib/python3.7/site-packages (from tensorflow==2.4.1->-r ../chapter-3/src/requirements.txt (line 11)) (2.5.0)\n"
     ]
    },
    {
     "name": "stdout",
     "output_type": "stream",
     "text": [
      "Requirement already satisfied: grpcio~=1.32.0 in /Users/kumar/work/workshop_notebooks/.venv/lib/python3.7/site-packages (from tensorflow==2.4.1->-r ../chapter-3/src/requirements.txt (line 11)) (1.32.0)\n",
      "Requirement already satisfied: wrapt~=1.12.1 in /Users/kumar/work/workshop_notebooks/.venv/lib/python3.7/site-packages (from tensorflow==2.4.1->-r ../chapter-3/src/requirements.txt (line 11)) (1.12.1)\n",
      "Requirement already satisfied: flatbuffers~=1.12.0 in /Users/kumar/work/workshop_notebooks/.venv/lib/python3.7/site-packages (from tensorflow==2.4.1->-r ../chapter-3/src/requirements.txt (line 11)) (1.12)\n",
      "Requirement already satisfied: termcolor~=1.1.0 in /Users/kumar/work/workshop_notebooks/.venv/lib/python3.7/site-packages (from tensorflow==2.4.1->-r ../chapter-3/src/requirements.txt (line 11)) (1.1.0)\n",
      "Requirement already satisfied: PyWavelets>=1.1.1 in /Users/kumar/work/workshop_notebooks/.venv/lib/python3.7/site-packages (from scikit-image>=0.14.2->imgaug->-r ../chapter-3/src/requirements.txt (line 3)) (1.1.1)\n",
      "Requirement already satisfied: networkx>=2.0 in /Users/kumar/work/workshop_notebooks/.venv/lib/python3.7/site-packages (from scikit-image>=0.14.2->imgaug->-r ../chapter-3/src/requirements.txt (line 3)) (2.5.1)\n",
      "Requirement already satisfied: tifffile>=2019.7.26 in /Users/kumar/work/workshop_notebooks/.venv/lib/python3.7/site-packages (from scikit-image>=0.14.2->imgaug->-r ../chapter-3/src/requirements.txt (line 3)) (2021.4.8)\n",
      "Requirement already satisfied: joblib>=0.11 in /Users/kumar/work/workshop_notebooks/.venv/lib/python3.7/site-packages (from scikit-learn->sklearn->-r ../chapter-3/src/requirements.txt (line 10)) (1.0.1)\n",
      "Requirement already satisfied: threadpoolctl>=2.0.0 in /Users/kumar/work/workshop_notebooks/.venv/lib/python3.7/site-packages (from scikit-learn->sklearn->-r ../chapter-3/src/requirements.txt (line 10)) (2.1.0)\n",
      "Requirement already satisfied: google-auth<2,>=1.6.3 in /Users/kumar/work/workshop_notebooks/.venv/lib/python3.7/site-packages (from tensorboard~=2.4->tensorflow==2.4.1->-r ../chapter-3/src/requirements.txt (line 11)) (1.30.0)\n",
      "Requirement already satisfied: werkzeug>=0.11.15 in /Users/kumar/work/workshop_notebooks/.venv/lib/python3.7/site-packages (from tensorboard~=2.4->tensorflow==2.4.1->-r ../chapter-3/src/requirements.txt (line 11)) (1.0.1)\n",
      "Requirement already satisfied: google-auth-oauthlib<0.5,>=0.4.1 in /Users/kumar/work/workshop_notebooks/.venv/lib/python3.7/site-packages (from tensorboard~=2.4->tensorflow==2.4.1->-r ../chapter-3/src/requirements.txt (line 11)) (0.4.4)\n",
      "Requirement already satisfied: markdown>=2.6.8 in /Users/kumar/work/workshop_notebooks/.venv/lib/python3.7/site-packages (from tensorboard~=2.4->tensorflow==2.4.1->-r ../chapter-3/src/requirements.txt (line 11)) (3.3.4)\n",
      "Requirement already satisfied: tensorboard-plugin-wit>=1.6.0 in /Users/kumar/work/workshop_notebooks/.venv/lib/python3.7/site-packages (from tensorboard~=2.4->tensorflow==2.4.1->-r ../chapter-3/src/requirements.txt (line 11)) (1.8.0)\n",
      "Requirement already satisfied: setuptools>=41.0.0 in /Users/kumar/work/workshop_notebooks/.venv/lib/python3.7/site-packages (from tensorboard~=2.4->tensorflow==2.4.1->-r ../chapter-3/src/requirements.txt (line 11)) (56.1.0)\n",
      "Requirement already satisfied: tensorboard-data-server<0.7.0,>=0.6.0 in /Users/kumar/work/workshop_notebooks/.venv/lib/python3.7/site-packages (from tensorboard~=2.4->tensorflow==2.4.1->-r ../chapter-3/src/requirements.txt (line 11)) (0.6.1)\n",
      "Requirement already satisfied: decorator<5,>=4.3 in /Users/kumar/work/workshop_notebooks/.venv/lib/python3.7/site-packages (from networkx>=2.0->scikit-image>=0.14.2->imgaug->-r ../chapter-3/src/requirements.txt (line 3)) (4.4.2)\n",
      "Requirement already satisfied: pyasn1-modules>=0.2.1 in /Users/kumar/work/workshop_notebooks/.venv/lib/python3.7/site-packages (from google-auth<2,>=1.6.3->tensorboard~=2.4->tensorflow==2.4.1->-r ../chapter-3/src/requirements.txt (line 11)) (0.2.8)\n",
      "Requirement already satisfied: cachetools<5.0,>=2.0.0 in /Users/kumar/work/workshop_notebooks/.venv/lib/python3.7/site-packages (from google-auth<2,>=1.6.3->tensorboard~=2.4->tensorflow==2.4.1->-r ../chapter-3/src/requirements.txt (line 11)) (4.2.2)\n",
      "Requirement already satisfied: rsa<5,>=3.1.4; python_version >= \"3.6\" in /Users/kumar/work/workshop_notebooks/.venv/lib/python3.7/site-packages (from google-auth<2,>=1.6.3->tensorboard~=2.4->tensorflow==2.4.1->-r ../chapter-3/src/requirements.txt (line 11)) (4.7.2)\n",
      "Requirement already satisfied: requests-oauthlib>=0.7.0 in /Users/kumar/work/workshop_notebooks/.venv/lib/python3.7/site-packages (from google-auth-oauthlib<0.5,>=0.4.1->tensorboard~=2.4->tensorflow==2.4.1->-r ../chapter-3/src/requirements.txt (line 11)) (1.3.0)\n",
      "Requirement already satisfied: importlib-metadata; python_version < \"3.8\" in /Users/kumar/work/workshop_notebooks/.venv/lib/python3.7/site-packages (from markdown>=2.6.8->tensorboard~=2.4->tensorflow==2.4.1->-r ../chapter-3/src/requirements.txt (line 11)) (4.0.1)\n",
      "Requirement already satisfied: pyasn1<0.5.0,>=0.4.6 in /Users/kumar/work/workshop_notebooks/.venv/lib/python3.7/site-packages (from pyasn1-modules>=0.2.1->google-auth<2,>=1.6.3->tensorboard~=2.4->tensorflow==2.4.1->-r ../chapter-3/src/requirements.txt (line 11)) (0.4.8)\n",
      "Requirement already satisfied: oauthlib>=3.0.0 in /Users/kumar/work/workshop_notebooks/.venv/lib/python3.7/site-packages (from requests-oauthlib>=0.7.0->google-auth-oauthlib<0.5,>=0.4.1->tensorboard~=2.4->tensorflow==2.4.1->-r ../chapter-3/src/requirements.txt (line 11)) (3.1.0)\n",
      "Requirement already satisfied: zipp>=0.5 in /Users/kumar/work/workshop_notebooks/.venv/lib/python3.7/site-packages (from importlib-metadata; python_version < \"3.8\"->markdown>=2.6.8->tensorboard~=2.4->tensorflow==2.4.1->-r ../chapter-3/src/requirements.txt (line 11)) (3.4.1)\n",
      "\u001b[33mYou are using pip version 19.0.3, however version 21.1.1 is available.\n",
      "You should consider upgrading via the 'pip install --upgrade pip' command.\u001b[0m\n"
     ]
    }
   ],
   "source": [
    "!pip install -r ../chapter-3/src/requirements.txt"
   ]
  },
  {
   "cell_type": "markdown",
   "metadata": {},
   "source": [
    "## Import Packages"
   ]
  },
  {
   "cell_type": "code",
   "execution_count": 13,
   "metadata": {},
   "outputs": [
    {
     "name": "stdout",
     "output_type": "stream",
     "text": [
      "Requirement already satisfied: fiona in /Users/kumar/work/workshop_notebooks/.venv/lib/python3.7/site-packages (1.8.19)\n",
      "Requirement already satisfied: certifi in /Users/kumar/work/workshop_notebooks/.venv/lib/python3.7/site-packages (from fiona) (2020.12.5)\n",
      "Requirement already satisfied: cligj>=0.5 in /Users/kumar/work/workshop_notebooks/.venv/lib/python3.7/site-packages (from fiona) (0.7.1)\n",
      "Requirement already satisfied: click<8,>=4.0 in /Users/kumar/work/workshop_notebooks/.venv/lib/python3.7/site-packages (from fiona) (7.1.2)\n",
      "Requirement already satisfied: six>=1.7 in /Users/kumar/work/workshop_notebooks/.venv/lib/python3.7/site-packages (from fiona) (1.16.0)\n",
      "Requirement already satisfied: munch in /Users/kumar/work/workshop_notebooks/.venv/lib/python3.7/site-packages (from fiona) (2.5.0)\n",
      "Requirement already satisfied: click-plugins>=1.0 in /Users/kumar/work/workshop_notebooks/.venv/lib/python3.7/site-packages (from fiona) (1.1.1)\n",
      "Requirement already satisfied: attrs>=17 in /Users/kumar/work/workshop_notebooks/.venv/lib/python3.7/site-packages (from fiona) (20.3.0)\n",
      "\u001b[33mYou are using pip version 19.0.3, however version 21.1.1 is available.\n",
      "You should consider upgrading via the 'pip install --upgrade pip' command.\u001b[0m\n"
     ]
    }
   ],
   "source": [
    "!pip install fiona"
   ]
  },
  {
   "cell_type": "code",
   "execution_count": 12,
   "metadata": {},
   "outputs": [
    {
     "ename": "ImportError",
     "evalue": "dlopen(/Users/kumar/anaconda3/lib/python3.6/site-packages/fiona/ogrext.cpython-36m-darwin.so, 2): Library not loaded: @rpath/libpoppler.71.dylib\n  Referenced from: /Users/kumar/anaconda3/lib/libgdal.20.dylib\n  Reason: image not found",
     "output_type": "error",
     "traceback": [
      "\u001b[0;31m---------------------------------------------------------------------------\u001b[0m",
      "\u001b[0;31mImportError\u001b[0m                               Traceback (most recent call last)",
      "\u001b[0;32m<ipython-input-12-adeff1ce1a4d>\u001b[0m in \u001b[0;36m<module>\u001b[0;34m()\u001b[0m\n\u001b[1;32m      1\u001b[0m \u001b[0;32mimport\u001b[0m \u001b[0mboto3\u001b[0m\u001b[0;34m\u001b[0m\u001b[0;34m\u001b[0m\u001b[0m\n\u001b[0;32m----> 2\u001b[0;31m \u001b[0;32mimport\u001b[0m \u001b[0mfiona\u001b[0m\u001b[0;34m\u001b[0m\u001b[0;34m\u001b[0m\u001b[0m\n\u001b[0m\u001b[1;32m      3\u001b[0m \u001b[0;34m\u001b[0m\u001b[0m\n\u001b[1;32m      4\u001b[0m \u001b[0;32mimport\u001b[0m \u001b[0mmath\u001b[0m\u001b[0;34m\u001b[0m\u001b[0;34m\u001b[0m\u001b[0m\n\u001b[1;32m      5\u001b[0m \u001b[0;32mimport\u001b[0m \u001b[0mnumpy\u001b[0m \u001b[0;32mas\u001b[0m \u001b[0mnp\u001b[0m\u001b[0;34m\u001b[0m\u001b[0;34m\u001b[0m\u001b[0m\n",
      "\u001b[0;32m~/anaconda3/lib/python3.6/site-packages/fiona/__init__.py\u001b[0m in \u001b[0;36m<module>\u001b[0;34m()\u001b[0m\n\u001b[1;32m     67\u001b[0m \u001b[0;32mfrom\u001b[0m \u001b[0msix\u001b[0m \u001b[0;32mimport\u001b[0m \u001b[0mstring_types\u001b[0m\u001b[0;34m\u001b[0m\u001b[0;34m\u001b[0m\u001b[0m\n\u001b[1;32m     68\u001b[0m \u001b[0;34m\u001b[0m\u001b[0m\n\u001b[0;32m---> 69\u001b[0;31m \u001b[0;32mfrom\u001b[0m \u001b[0mfiona\u001b[0m\u001b[0;34m.\u001b[0m\u001b[0mcollection\u001b[0m \u001b[0;32mimport\u001b[0m \u001b[0mCollection\u001b[0m\u001b[0;34m,\u001b[0m \u001b[0mBytesCollection\u001b[0m\u001b[0;34m,\u001b[0m \u001b[0mvsi_path\u001b[0m\u001b[0;34m\u001b[0m\u001b[0;34m\u001b[0m\u001b[0m\n\u001b[0m\u001b[1;32m     70\u001b[0m \u001b[0;32mfrom\u001b[0m \u001b[0mfiona\u001b[0m\u001b[0;34m.\u001b[0m\u001b[0m_drivers\u001b[0m \u001b[0;32mimport\u001b[0m \u001b[0mdriver_count\u001b[0m\u001b[0;34m,\u001b[0m \u001b[0mGDALEnv\u001b[0m\u001b[0;34m\u001b[0m\u001b[0;34m\u001b[0m\u001b[0m\n\u001b[1;32m     71\u001b[0m \u001b[0;32mfrom\u001b[0m \u001b[0mfiona\u001b[0m\u001b[0;34m.\u001b[0m\u001b[0mdrvsupport\u001b[0m \u001b[0;32mimport\u001b[0m \u001b[0msupported_drivers\u001b[0m\u001b[0;34m\u001b[0m\u001b[0;34m\u001b[0m\u001b[0m\n",
      "\u001b[0;32m~/anaconda3/lib/python3.6/site-packages/fiona/collection.py\u001b[0m in \u001b[0;36m<module>\u001b[0;34m()\u001b[0m\n\u001b[1;32m      7\u001b[0m \u001b[0;34m\u001b[0m\u001b[0m\n\u001b[1;32m      8\u001b[0m \u001b[0;32mfrom\u001b[0m \u001b[0mfiona\u001b[0m \u001b[0;32mimport\u001b[0m \u001b[0mcompat\u001b[0m\u001b[0;34m\u001b[0m\u001b[0;34m\u001b[0m\u001b[0m\n\u001b[0;32m----> 9\u001b[0;31m \u001b[0;32mfrom\u001b[0m \u001b[0mfiona\u001b[0m\u001b[0;34m.\u001b[0m\u001b[0mogrext\u001b[0m \u001b[0;32mimport\u001b[0m \u001b[0mIterator\u001b[0m\u001b[0;34m,\u001b[0m \u001b[0mItemsIterator\u001b[0m\u001b[0;34m,\u001b[0m \u001b[0mKeysIterator\u001b[0m\u001b[0;34m\u001b[0m\u001b[0;34m\u001b[0m\u001b[0m\n\u001b[0m\u001b[1;32m     10\u001b[0m \u001b[0;32mfrom\u001b[0m \u001b[0mfiona\u001b[0m\u001b[0;34m.\u001b[0m\u001b[0mogrext\u001b[0m \u001b[0;32mimport\u001b[0m \u001b[0mSession\u001b[0m\u001b[0;34m,\u001b[0m \u001b[0mWritingSession\u001b[0m\u001b[0;34m\u001b[0m\u001b[0;34m\u001b[0m\u001b[0m\n\u001b[1;32m     11\u001b[0m from fiona.ogrext import (\n",
      "\u001b[0;31mImportError\u001b[0m: dlopen(/Users/kumar/anaconda3/lib/python3.6/site-packages/fiona/ogrext.cpython-36m-darwin.so, 2): Library not loaded: @rpath/libpoppler.71.dylib\n  Referenced from: /Users/kumar/anaconda3/lib/libgdal.20.dylib\n  Reason: image not found"
     ]
    }
   ],
   "source": [
    "import boto3\n",
    "import fiona\n",
    "\n",
    "import math\n",
    "import numpy as np\n",
    "import os\n",
    "import random\n",
    "import rasterio.features\n",
    "\n",
    "import re\n",
    "import requests\n",
    "import shutil\n",
    "\n",
    "from datetime import datetime\n",
    "from glob import glob\n",
    "from io import BytesIO\n",
    "from IPython.display import Image as Display\n",
    "from PIL import Image\n",
    "from rasterio.warp import calculate_default_transform\n"
   ]
  },
  {
   "cell_type": "markdown",
   "metadata": {},
   "source": [
    "## Setup Constant variables"
   ]
  },
  {
   "cell_type": "code",
   "execution_count": 2,
   "metadata": {},
   "outputs": [],
   "source": [
    "ACCOUNT_NUMBER = \"350996086543\"\n",
    "ROLE_NAME = \"notebookAccessRole\"\n",
    "ROLE_ARN = f\"arn:aws:iam::{ACCOUNT_NUMBER}:role/{ROLE_NAME}\"\n",
    "SOURCE_BUCKET = \"impact-datashare\"\n",
    "DESTINATION_BUCKET = \"<your bucket name>\"\n",
    "\n",
    "# NOTE: Use image_url function above to create a valid url, if the shapefile generation was not done in Aqua, TrueColor \n",
    "DATA_FOLDER = \"data\"\n",
    "EVENT = \"hld-labeled\"\n",
    "IMAGE_FOLDER = \"images\"\n",
    "SHAPEFILE_FOLDER = \"shapefiles\"\n",
    "URL = \"https://gibs.earthdata.nasa.gov/wms/epsg4326/best/wms.cgi?SERVICE=WMS&REQUEST=GetMap&layers=MODIS_Aqua_CorrectedReflectance_TrueColor&version=1.3.0&crs=EPSG:4326&transparent=false&width={}&height={}&bbox={}&format=image/tiff&time={}\"\n",
    "KM_PER_DEG_AT_EQ = 111.\n",
    "RESOLUTION = 0.25"
   ]
  },
  {
   "cell_type": "markdown",
   "metadata": {},
   "source": [
    "## Setup environment for Notebook Access"
   ]
  },
  {
   "cell_type": "code",
   "execution_count": 3,
   "metadata": {},
   "outputs": [],
   "source": [
    "def assumed_role_session():\n",
    "    \"\"\" Assume the \"notebookAccessRole\" role we created using AWS CDK in chapter-0\"\"\"\n",
    "    client = boto3.client('sts')\n",
    "    creds = client.assume_role(\n",
    "        RoleArn=ROLE_ARN,\n",
    "        RoleSessionName=ROLE_NAME\n",
    "    )['Credentials']\n",
    "    return boto3.session.Session(\n",
    "        aws_access_key_id=creds['AccessKeyId'],\n",
    "        aws_secret_access_key=creds['SecretAccessKey'],\n",
    "        aws_session_token=creds['SessionToken'],\n",
    "        region_name='us-east-1'\n",
    "    )\n"
   ]
  },
  {
   "cell_type": "markdown",
   "metadata": {},
   "source": [
    "### Create and Delete folders"
   ]
  },
  {
   "cell_type": "code",
   "execution_count": null,
   "metadata": {},
   "outputs": [],
   "source": [
    "def mkdir(foldername):\n",
    "    \"\"\"\n",
    "    creates folders if 'foldername' doesn't exist\n",
    "    \"\"\"\n",
    "    if os.path.exists(foldername):\n",
    "        print(f\"'{foldername}' folder already exists.\")\n",
    "        return\n",
    "    os.makedirs(foldername)\n",
    "    print(f\"Created folder: {foldername}\")\n",
    "\n",
    "    \n",
    "def delete_folder(foldername):\n",
    "    \"\"\"deletes folder and its contents \"\"\"\n",
    "    if os.path.exists(foldername):\n",
    "        shutil.rmtree(foldername) \n",
    "    else:\n",
    "        print(f\"Folder {foldername} doesn't exist.\")\n",
    "    \n",
    "    "
   ]
  },
  {
   "cell_type": "markdown",
   "metadata": {},
   "source": [
    "## Image Querying Operations\n",
    "\n",
    "These set of helper functions are used to query gibs for MODIS imagery with requiired query parameters, calculate the image dimensions of a given extent,and convert shapefiles into rasters of 0's and 1's corresponding to the shape."
   ]
  },
  {
   "cell_type": "code",
   "execution_count": 4,
   "metadata": {},
   "outputs": [],
   "source": [
    "def image_url(query_date, bbox, sensor, product, width, height):\n",
    "    \"\"\"create a url to return an image based on the query parameters\"\"\"\n",
    "    BASE_URL = 'https://gibs.earthdata.nasa.gov/wms/epsg4326/best/wms.cgi'\n",
    "    param_dict = {\n",
    "        \"BBOX\": bbox,\n",
    "        \"CRS\": \"EPSG:4326\",\n",
    "        \"FORMAT\": \"image/jpeg\",\n",
    "        \"HEIGHT\": height,\n",
    "        \"LAYERS\": \"MODIS_%s_CorrectedReflectance_%s\" % (sensor, product),\n",
    "        \"REQUEST\": \"GetMap\",\n",
    "        \"SERVICE\": \"WMS\",\n",
    "        \"TIME\": query_date,\n",
    "        \"TRANSPARENT\": \"false\",\n",
    "        \"VERSION\": \"1.3.0\",\n",
    "        \"WIDTH\": width,\n",
    "    }\n",
    "\n",
    "    return \"{}?{}\".format(BASE_URL, urlencode(param_dict))\n",
    "\n",
    "\n",
    "def calculate_width_height(extent, resolution):\n",
    "    \"\"\"\n",
    "    extent: [lower_latitude, left_longitude, higher_latitude, right_longitude], EG: [51.46162974683544,-22.94768591772153,53.03698575949367,-20.952234968354432]\n",
    "    resolution: represents the pixel resolution, i.e. km/pixel. Should be a value from this list: [0.03, 0.06, 0.125, 0.25, 0.5, 1, 5, 10]\n",
    "    \"\"\"\n",
    "    lats = extent[::2]\n",
    "    lons = extent[1::2]\n",
    "    km_per_deg_at_lat = KM_PER_DEG_AT_EQ * np.cos(np.pi * np.mean(lats) / 180.)\n",
    "    width = int((lons[1] - lons[0]) * km_per_deg_at_lat / resolution)\n",
    "    height = int((lats[1] - lats[0]) * KM_PER_DEG_AT_EQ / resolution)\n",
    "    return (width, height)\n",
    "\n",
    "\n",
    "def modis_url(time, extent, resolution):\n",
    "    \"\"\"\n",
    "    time: utc time in iso format EG: 2020-02-19T00:00:00Z\n",
    "    extent: [lower_latitude, left_longitude, higher_latitude, right_longitude], EG: [51.46162974683544,-22.94768591772153,53.03698575949367,-20.952234968354432]\n",
    "    resolution: represents the pixel resolution, i.e. km/pixel. Should be a value from this list: [0.03, 0.06, 0.125, 0.25, 0.5, 1, 5, 10]\n",
    "    \"\"\"\n",
    "    width, height = calculate_width_height(extent, resolution)\n",
    "    extent = ','.join(map(lambda x: str(x), extent))\n",
    "    return (width, height, URL.format(width, height, extent, time))\n",
    "\n",
    "\n",
    "def bitmap_from_shp(fiona_shape, transform, img_shape, filename):\n",
    "    \"\"\" extract out the smoke pixels using the shapefile\n",
    "     from the transform defined\n",
    "    Args:\n",
    "        fiona_shape (Collection): fiona shape collection obtained by fiona.open()\n",
    "        transfrom (rasterio.transfrom.Affine): rasterio transform object\n",
    "    \"\"\"\n",
    "    geoms = []\n",
    "    y_mtx = np.zeros((img_shape))\n",
    "    for shape in fiona_shape:\n",
    "        geoms.append(shape[\"geometry\"])\n",
    "    bitmap_filename = filename.replace('.shp', '_bitmap.png')\n",
    "    # raster the geoms onto a bitmap\n",
    "    geom_map = [(geo, 255) for geo in geoms]\n",
    "    y_mtx = rasterio.features.rasterize(\n",
    "        geom_map,\n",
    "        out_shape=(img_shape[0], img_shape[1]),\n",
    "        transform=transform\n",
    "    )\n",
    "    img = Image.fromarray(y_mtx)\n",
    "    print(f\"Preparing Bitmap: {filename}\")\n",
    "    img.save(f\"{DATA_FOLDER}/{IMAGE_FOLDER}/{bitmap_filename}\")\n",
    "    \n",
    "\n",
    "def explode(coords):\n",
    "    \"\"\"\n",
    "    Explode a GeoJSON geometry's coordinates object and yield coordinate tuples.\n",
    "    As long as the input is conforming, the type of the geometry doesn't matter.\n",
    "    \"\"\"\n",
    "    for e in coords:\n",
    "        if isinstance(e, (float, int)):\n",
    "            yield coords\n",
    "            break\n",
    "        else:\n",
    "            for f in explode(e):\n",
    "                yield f\n",
    "\n",
    "\n",
    "def extract_bbox(fiona_shape, offset=0):\n",
    "    \"\"\"\n",
    "    Extract bounding box from shapefile\n",
    "    \"\"\"\n",
    "    x, y = zip(*list(explode(fiona_shape['geometry']['coordinates'])))\n",
    "    return min(y) - offset, min(x) - offset, max(y) + offset, max(x) + offset\n",
    "\n",
    "\n",
    "def download_image(date, bounding_box, shapefile_name):\n",
    "    \"\"\"\n",
    "    Download images from gibs (https://earthdata.nasa.gov/eosdis/science-system-description/eosdis-components/gibs)\n",
    "    date: date of event\n",
    "    bounding_box: [lower_latitude, left_longitude, higher_latitude, right_longitude], EG: [51.46162974683544,-22.94768591772153,53.03698575949367,-20.952234968354432]\n",
    "    \"\"\"\n",
    "    resolution = RESOLUTION\n",
    "    width, height, url = modis_url(date, bounding_box, RESOLUTION)\n",
    "    print(url)\n",
    "    response = requests.get(url)\n",
    "    response.raise_for_status()\n",
    "    file_name = shapefile_name.replace('shp', 'tiff')\n",
    "    file_name = f\"{DATA_FOLDER}/{IMAGE_FOLDER}/{file_name}\"\n",
    "    print(f\"Downloading Image: {file_name}\")\n",
    "    with open(file_name, 'wb') as img_file:\n",
    "        img_file.write(response.content)\n",
    "    return width, height, file_name"
   ]
  },
  {
   "cell_type": "markdown",
   "metadata": {},
   "source": [
    "## Create training, Validation and Test Splits\n",
    "\n",
    "While Training a ML model, The danger in the training process is that your model may overfit to the training set. That is, the model might learn an overly specific function that performs well on your training data, but does not generalize to images it has never seen. This is called Overfitting.\n",
    "\n",
    "The train, validation, and testing splits are built to combat overfitting.\n",
    "\n",
    "\n",
    "### Train Split\n",
    "The training set the largest corpus of your dataset that you reserve for training your model. After training, inference on these images will be taken with a grain of salt, since the model has already had a chance to look at and memorize the correct output.\n",
    "\n",
    "### Validation Split\n",
    "The validation set is a separate section of your dataset that you will use during training to get a sense of how well your model is doing on images that are not being used in training.\n",
    "\n",
    "### Test Split\n",
    "After all of the training experiments have concluded, you probably have gotten a sense on how your model might do on the validation set. But it is important to remember that the validation set metrics may have influenced you during the creation of the model, and in this sense you might, as a designer, overfit the new model to the validation set."
   ]
  },
  {
   "cell_type": "code",
   "execution_count": 5,
   "metadata": {},
   "outputs": [],
   "source": [
    "def create_split(split, files):\n",
    "    \"\"\"\n",
    "    Clear and create folder with new files.\n",
    "    split: choice of \"train\", \"test\", and \"val\"\n",
    "    files: list of tiff file paths\n",
    "\n",
    "    \"\"\"\n",
    "    print(f'Preparing {split} split with {len(files)} examples.')\n",
    "    folder_name = f\"{DATA_FOLDER}/{split}\"\n",
    "    if os.path.exists(folder_name):\n",
    "        delete_folder(folder_name)\n",
    "    mkdir(folder_name)\n",
    "    for filename in files:\n",
    "        internal_filename = filename.split('/')[-1]\n",
    "        bitmap_filename = filename.replace('.tiff', '_bitmap.png')\n",
    "        shutil.copyfile(filename, f\"{folder_name}/{internal_filename}\")\n",
    "        shutil.copyfile(bitmap_filename, f\"{folder_name}/{bitmap_filename.split('/')[-1]}\")\n",
    "         \n",
    "# prepare train, val, and test splits\n",
    "def prepare_splits(source_folder, splits={'train': 0.6, 'val': 0.2, 'test': 0.2}):\n",
    "    \"\"\" Creates training, validation and test splits from `source folder`\n",
    "    \"\"\"\n",
    "    files = glob(f\"{source_folder}/*.tiff\")\n",
    "    print(f\"Total examples found: {len(files)}\")\n",
    "    random.shuffle(files)\n",
    "    length = len(files)\n",
    "    train_limit = math.ceil(length * splits['train'])\n",
    "    val_limit = train_limit + math.ceil(length * splits['train'])\n",
    "    create_split('train', files[0:train_limit])\n",
    "    create_split('val', files[train_limit:val_limit])\n",
    "    create_split('test', files[train_limit:val_limit])\n",
    "    "
   ]
  },
  {
   "cell_type": "markdown",
   "metadata": {},
   "source": [
    "## Download shapefiles from S3 bucket and images from WorldView\n",
    "- This function downloads the shapefiles that we previously labeled using imagelabeler.\n",
    "- The date-time and bounds of the shapefiles are found and the corresponding GIBS imagery is downloaded\n",
    "- The shapefiles are converted into bitmaps, which will serve as training labels.\n",
    "- The Images are finally stored in `DATA_FOLDER`\n"
   ]
  },
  {
   "cell_type": "code",
   "execution_count": 8,
   "metadata": {},
   "outputs": [],
   "source": [
    "def prepare_datasets(boto_session):\n",
    "    \"\"\"\n",
    "    Download and prepare images from available shapefiles\n",
    "    boto_session: Boto session currently in use.\n",
    "    \"\"\"\n",
    "    s3_connection = session.resource('s3')\n",
    "    bucket = s3_connection.Bucket(SOURCE_BUCKET)\n",
    "    objects = list(bucket.objects.filter(Prefix=f\"hld/\"))\n",
    "    foldername = f\"{DATA_FOLDER}/{SHAPEFILE_FOLDER}\"\n",
    "    mkdir(foldername)\n",
    "    for iter_object in objects:\n",
    "        print(iter_object.key)\n",
    "        splits = iter_object.key.split('/')\n",
    "        local_foldername = f\"{foldername}/{splits[1]}\"\n",
    "        mkdir(local_foldername)\n",
    "        filename = f\"{local_foldername}/{splits[-1]}\"\n",
    "        if not(os.path.exists(filename)):\n",
    "            bucket.download_file(iter_object.key, filename)\n",
    "        else: \n",
    "            print(f\"File already exists. {filename}\")\n",
    "    mkdir(f\"{DATA_FOLDER}/{IMAGE_FOLDER}\")\n",
    "    for shapefilename in glob(f\"{foldername}/*/*.shp\"):\n",
    "        date = shapefilename.split('_')[1]\n",
    "        filename = shapefilename.split('/')[-1]\n",
    "        with fiona.open(shapefilename, \"r\") as shapefile:\n",
    "            bounds = shapefile.bounds\n",
    "            bounds = [bounds[1], bounds[0], bounds[3], bounds[2]]\n",
    "            width, height, image_filename = download_image(date, bounds, filename)\n",
    "            try:\n",
    "                with rasterio.open(image_filename) as src:\n",
    "                    bitmap_from_shp(shapefile, src.transform, (width, height), filename)\n",
    "            except:\n",
    "                print(f\"Unable to download file: {image_filename}\")\n",
    "                os.remove(image_filename)\n"
   ]
  },
  {
   "cell_type": "markdown",
   "metadata": {},
   "source": [
    "## Download processed images that are stored in the s3 bucket, incase the above processing step fails"
   ]
  },
  {
   "cell_type": "code",
   "execution_count": 7,
   "metadata": {},
   "outputs": [],
   "source": [
    "def download_dataset(boto_session):\n",
    "    \"\"\"\n",
    "    Download and store data in folders.\n",
    "    boto_session: Boto session currently in use.\n",
    "    \"\"\"\n",
    "    s3_connection = session.resource('s3')\n",
    "    bucket = s3_connection.Bucket(SOURCE_BUCKET)\n",
    "    objects = list(bucket.objects.filter(Prefix=f\"{EVENT}/\"))\n",
    "    foldername = f\"{DATA_FOLDER}/{IMAGE_FOLDER}\"\n",
    "    mkdir(foldername)\n",
    "    for iter_object in objects:\n",
    "        print(iter_object.key)\n",
    "        splits = iter_object.key.split('/')\n",
    "        if splits[-1]:\n",
    "            filename = f\"{foldername}/{splits[-1]}\"\n",
    "            bucket.download_file(iter_object.key, filename)\n"
   ]
  },
  {
   "cell_type": "markdown",
   "metadata": {},
   "source": [
    "## Putting it all together - Creating a session with permissions to preparing dataset"
   ]
  },
  {
   "cell_type": "code",
   "execution_count": 3,
   "metadata": {},
   "outputs": [
    {
     "ename": "NameError",
     "evalue": "name 'assumed_role_session' is not defined",
     "output_type": "error",
     "traceback": [
      "\u001b[0;31m---------------------------------------------------------------------------\u001b[0m",
      "\u001b[0;31mNameError\u001b[0m                                 Traceback (most recent call last)",
      "\u001b[0;32m<ipython-input-3-d874580bdd11>\u001b[0m in \u001b[0;36m<module>\u001b[0;34m()\u001b[0m\n\u001b[0;32m----> 1\u001b[0;31m \u001b[0msession\u001b[0m \u001b[0;34m=\u001b[0m \u001b[0massumed_role_session\u001b[0m\u001b[0;34m(\u001b[0m\u001b[0;34m)\u001b[0m\u001b[0;34m\u001b[0m\u001b[0;34m\u001b[0m\u001b[0m\n\u001b[0m",
      "\u001b[0;31mNameError\u001b[0m: name 'assumed_role_session' is not defined"
     ]
    }
   ],
   "source": [
    "session = assumed_role_session()  # Create a aws session with appropriate permissions\n",
    "prepare_datasets(session) # Create a aws session with appropriate permissions\n",
    "download_dataset(session) # Create a aws session with appropriate permissions\n",
    "prepare_splits(f\"{DATA_FOLDER}/{IMAGE_FOLDER}\")\n",
    "!cp data ../"
   ]
  }
 ],
 "metadata": {
  "kernelspec": {
   "display_name": "Python 3",
   "language": "python",
   "name": "python3"
  },
  "language_info": {
   "codemirror_mode": {
    "name": "ipython",
    "version": 3
   },
   "file_extension": ".py",
   "mimetype": "text/x-python",
   "name": "python",
   "nbconvert_exporter": "python",
   "pygments_lexer": "ipython3",
   "version": "3.6.7"
  },
  "metadata": {
   "interpreter": {
    "hash": "b2f39e33ffaae589a3831cb10b63d3db471aae6fe85e5b0ac435826ecc22d42b"
   }
  }
 },
 "nbformat": 4,
 "nbformat_minor": 2
}
