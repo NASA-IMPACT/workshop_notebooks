{
 "cells": [
  {
   "cell_type": "markdown",
   "metadata": {},
   "source": [
    "# Chapter 1: ImageLabeler: A GIS-based webtool to label Earth science events"
   ]
  },
  {
   "cell_type": "markdown",
   "metadata": {},
   "source": [
    "### 1. Create an ImageLabeler account using the link <https://impact.earthdata.nasa.gov/labeler/>\n",
    "\n",
    "Detailed instructions on how to create a user account can be found in [this](https://nasa-impact.github.io/image_labeler_docs/html/sectiontwo.html) section of the ImageLabeler user guide. The guide will walk you through the signup process and account options.\n",
    "\n",
    "<img src=\"images/sign-up.png\">"
   ]
  },
  {
   "cell_type": "markdown",
   "metadata": {},
   "source": [
    "### 2. Navigate to a high latitude dust event\n",
    "\n",
    "Detailed instructions on the ImageLabeler user interface and navigation controls can be found in [this](https://nasa-impact.github.io/image_labeler_docs/html/sectionthree.html) section of the ImageLabeler user guide. There you will find details on ImageLabeler’s Earth science events directory and event pages.\n",
    "\n",
    "<img src=\"images/events.png\">"
   ]
  },
  {
   "cell_type": "markdown",
   "metadata": {},
   "source": [
    "### 3. View events in Mapview\n",
    "\n",
    "The Mapview feature of ImageLabeler is covered in [this](https://nasa-impact.github.io/image_labeler_docs/html/sectionthree.html#mapview) section of the user guide. Selecting satellite instruments and specifying data products are covered along with utilizing the timeline filter.\n",
    "\n",
    "<img src=\"images/hld-images.png\">"
   ]
  },
  {
   "cell_type": "markdown",
   "metadata": {},
   "source": [
    "### 4. Specify event dates, navigate to events, and create labels\n",
    "\n",
    "<img src=\"images/map-view-3.png\">"
   ]
  },
  {
   "cell_type": "markdown",
   "metadata": {},
   "source": [
    "### 6. Create shapefiles over the events of interest (HLD in this case)\n",
    "The process of selecting candidate events and tagging images is explained in [this](https://nasa-impact.github.io/image_labeler_docs/html/sectionfive.html) section of the ImageLabeler user guide. The available control fields used to filter images and the available tagging options are covered.\n",
    "\n",
    "<img src=\"images/draw-shape.png\">"
   ]
  },
  {
   "source": [
    "### Due to time constrants we will be using pre-labeled HLD dust events for demonstration purposes"
   ],
   "cell_type": "markdown",
   "metadata": {}
  },
  {
   "cell_type": "code",
   "execution_count": null,
   "metadata": {},
   "outputs": [],
   "source": []
  }
 ],
 "metadata": {
  "kernelspec": {
   "name": "python385jvsc74a57bd074a95c20e259f21dc459b3279c6c9f2b74bfdeea7ad57efa8eea95b4b9190b51",
   "display_name": "Python 3.8.5 64-bit ('contrail': conda)"
  },
  "language_info": {
   "codemirror_mode": {
    "name": "ipython",
    "version": "3.6.13"
   },
   "file_extension": ".py",
   "mimetype": "text/x-python",
   "name": "python",
   "nbconvert_exporter": "python",
   "pygments_lexer": "ipython3",
   "version": "3.8.5"
  },
  "metadata": {
   "interpreter": {
    "hash": "b2f39e33ffaae589a3831cb10b63d3db471aae6fe85e5b0ac435826ecc22d42b"
   }
  }
 },
 "nbformat": 4,
 "nbformat_minor": 4
}