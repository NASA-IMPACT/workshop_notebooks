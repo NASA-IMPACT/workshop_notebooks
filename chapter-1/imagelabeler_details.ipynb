{
 "cells": [
  {
   "cell_type": "markdown",
   "metadata": {},
   "source": [
    "# ImageLabeler Account"
   ]
  },
  {
   "cell_type": "markdown",
   "metadata": {},
   "source": [
    "1. Create ImageLabeler Account using the link <insert imagelabeler registration link>\n",
    "2. Navigate to High Latitude Dust Event\n",
    "3. List all images, and shapefiles\n",
    "4. Navigate to map view from shapefiles\n",
    "5. View event in map view\n",
    "6. Find some event dates to navigate to and create labels\n",
    "7. Interact with ImageLabeler and demonstrate the whole process\n",
    "   "
   ]
  },
  {
   "cell_type": "code",
   "execution_count": null,
   "metadata": {},
   "outputs": [],
   "source": []
  }
 ],
 "metadata": {
  "kernelspec": {
   "display_name": "Python 3",
   "language": "python",
   "name": "python3"
  },
  "language_info": {
   "codemirror_mode": {
    "name": "ipython",
    "version": 3
   },
   "file_extension": ".py",
   "mimetype": "text/x-python",
   "name": "python",
   "nbconvert_exporter": "python",
   "pygments_lexer": "ipython3",
   "version": "3.6.10"
  }
 },
 "nbformat": 4,
 "nbformat_minor": 4
}
