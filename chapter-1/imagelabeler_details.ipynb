{
 "cells": [
  {
   "cell_type": "markdown",
   "metadata": {},
   "source": [
    "# Chapter 1: ImageLabeler: A GIS based webtool to label Earth Science events"
   ]
  },
  {
   "cell_type": "markdown",
   "metadata": {},
   "source": [
    "### 1. Create ImageLabeler Account using the link <https://impact.earthdata.nasa.gov/labeler/>\n",
    "\n",
    "<img src=\"images/sign-up.png\">"
   ]
  },
  {
   "cell_type": "markdown",
   "metadata": {},
   "source": [
    "### 2. Navigate to High Latitude Dust Event\n",
    "\n",
    "<img src=\"images/events.png\">"
   ]
  },
  {
   "cell_type": "markdown",
   "metadata": {},
   "source": [
    "### 3. View event in map view\n",
    "\n",
    "<img src=\"images/hld-images.png\">"
   ]
  },
  {
   "cell_type": "markdown",
   "metadata": {},
   "source": [
    "### 4. Find some event dates to navigate to and create labels\n",
    "\n",
    "<img src=\"images/map-view-3.png\">"
   ]
  },
  {
   "cell_type": "markdown",
   "metadata": {},
   "source": [
    "### 6. Create Shapefiles over the events of interest (HLD in this case)\n",
    "\n",
    "<img src=\"images/draw-shape.png\">"
   ]
  },
  {
   "cell_type": "code",
   "execution_count": null,
   "metadata": {},
   "outputs": [],
   "source": []
  }
 ],
 "metadata": {
  "kernelspec": {
   "display_name": "Python 3",
   "language": "python",
   "name": "python3"
  },
  "language_info": {
   "codemirror_mode": {
    "name": "ipython",
    "version": 3
   },
   "file_extension": ".py",
   "mimetype": "text/x-python",
   "name": "python",
   "nbconvert_exporter": "python",
   "pygments_lexer": "ipython3",
   "version": "3.6.7"
  },
  "metadata": {
   "interpreter": {
    "hash": "b2f39e33ffaae589a3831cb10b63d3db471aae6fe85e5b0ac435826ecc22d42b"
   }
  }
 },
 "nbformat": 4,
 "nbformat_minor": 4
}